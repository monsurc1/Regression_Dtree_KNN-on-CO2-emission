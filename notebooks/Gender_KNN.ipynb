{
 "cells": [
  {
   "cell_type": "code",
   "execution_count": 2,
   "id": "acd98b15",
   "metadata": {},
   "outputs": [
    {
     "name": "stdout",
     "output_type": "stream",
     "text": [
      "Index(['Favorite Color', 'Favorite Music Genre', 'Favorite Beverage',\n",
      "       'Favorite Soft Drink', 'Gender'],\n",
      "      dtype='object')\n",
      "F    33\n",
      "M    33\n",
      "Name: Gender, dtype: int64\n"
     ]
    }
   ],
   "source": [
    "import numpy as np\n",
    "import pandas as pd\n",
    "from sklearn.neighbors import KNeighborsClassifier\n",
    "from sklearn.model_selection import train_test_split\n",
    "from sklearn.metrics import confusion_matrix\n",
    "\n",
    "df = pd.read_csv('../datasets/music_gender.csv')\n",
    "# print(df.head())\n",
    "\n",
    "print(df.columns)\n",
    "print(df.Gender.value_counts())"
   ]
  },
  {
   "cell_type": "code",
   "execution_count": 4,
   "id": "ef215634",
   "metadata": {},
   "outputs": [],
   "source": [
    "X = df.drop(['Gender'], axis='columns')\n",
    "y = df.Gender"
   ]
  },
  {
   "cell_type": "code",
   "execution_count": 6,
   "id": "ebba93df",
   "metadata": {},
   "outputs": [
    {
     "name": "stdout",
     "output_type": "stream",
     "text": [
      "(66, 4)\n"
     ]
    }
   ],
   "source": [
    "print(X.shape)"
   ]
  },
  {
   "cell_type": "code",
   "execution_count": 8,
   "id": "0fc14667",
   "metadata": {},
   "outputs": [],
   "source": [
    "X = pd.get_dummies(X)"
   ]
  },
  {
   "cell_type": "code",
   "execution_count": 9,
   "id": "7b903e3c",
   "metadata": {},
   "outputs": [
    {
     "name": "stdout",
     "output_type": "stream",
     "text": [
      "Test Accuracy 0.5714285714285714\n"
     ]
    }
   ],
   "source": [
    "X_train, X_test, y_train, y_test = train_test_split(X, y, test_size=0.2, random_state=1, stratify=y)\n",
    "\n",
    "clf = KNeighborsClassifier()\n",
    "clf.fit(X_train, y_train)\n",
    "\n",
    "print('Test Accuracy', clf.score(X_test, y_test))"
   ]
  },
  {
   "cell_type": "code",
   "execution_count": 10,
   "id": "e69b5a2e",
   "metadata": {},
   "outputs": [
    {
     "name": "stdout",
     "output_type": "stream",
     "text": [
      "[[0 0]\n",
      " [0 4]]\n",
      "0 0 0 4\n",
      "1.0\n"
     ]
    }
   ],
   "source": [
    "yPredict = clf.predict(X_test)\n",
    "\n",
    "cm = confusion_matrix(y_test, yPredict, labels=['B','M'])\n",
    "tn, fp, fn, tp = cm.ravel()\n",
    "print(cm)\n",
    "print(tn, fp, fn, tp)\n",
    "\n",
    "print( (tn + tp) / (tn + tp + fn + fp) )"
   ]
  },
  {
   "cell_type": "code",
   "execution_count": null,
   "id": "86d48f30",
   "metadata": {},
   "outputs": [],
   "source": []
  }
 ],
 "metadata": {
  "kernelspec": {
   "display_name": "Python 3 (ipykernel)",
   "language": "python",
   "name": "python3"
  },
  "language_info": {
   "codemirror_mode": {
    "name": "ipython",
    "version": 3
   },
   "file_extension": ".py",
   "mimetype": "text/x-python",
   "name": "python",
   "nbconvert_exporter": "python",
   "pygments_lexer": "ipython3",
   "version": "3.9.13"
  }
 },
 "nbformat": 4,
 "nbformat_minor": 5
}
